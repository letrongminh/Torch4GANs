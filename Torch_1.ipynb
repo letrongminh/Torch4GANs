{
  "nbformat": 4,
  "nbformat_minor": 0,
  "metadata": {
    "colab": {
      "name": "Torch_1.ipynb",
      "provenance": [],
      "authorship_tag": "ABX9TyO5yLYpFdzsr1q8+bHqjcJ+",
      "include_colab_link": true
    },
    "kernelspec": {
      "name": "python3",
      "display_name": "Python 3"
    },
    "language_info": {
      "name": "python"
    }
  },
  "cells": [
    {
      "cell_type": "markdown",
      "metadata": {
        "id": "view-in-github",
        "colab_type": "text"
      },
      "source": [
        "<a href=\"https://colab.research.google.com/github/letrongminh/Torch4GANs/blob/main/Torch_1.ipynb\" target=\"_parent\"><img src=\"https://colab.research.google.com/assets/colab-badge.svg\" alt=\"Open In Colab\"/></a>"
      ]
    },
    {
      "cell_type": "code",
      "metadata": {
        "id": "lPc7-Bhbxa_U"
      },
      "source": [
        "import torch"
      ],
      "execution_count": 152,
      "outputs": []
    },
    {
      "cell_type": "code",
      "metadata": {
        "colab": {
          "base_uri": "https://localhost:8080/"
        },
        "id": "pOi8KRnyxp4e",
        "outputId": "47d7c733-c8aa-41e1-8ce4-2a68422cb9a6"
      },
      "source": [
        "# Tensor\n",
        "t1 = torch.tensor(4.)\n",
        "t1"
      ],
      "execution_count": 153,
      "outputs": [
        {
          "output_type": "execute_result",
          "data": {
            "text/plain": [
              "tensor(4.)"
            ]
          },
          "metadata": {},
          "execution_count": 153
        }
      ]
    },
    {
      "cell_type": "code",
      "metadata": {
        "colab": {
          "base_uri": "https://localhost:8080/"
        },
        "id": "bP7WURvZyBVv",
        "outputId": "e9c43a63-1e0c-4377-8df0-bfc9cd2cf255"
      },
      "source": [
        "# Matrix\n",
        "t2 = torch.tensor([[5., 6.], [7., 8.]])\n",
        "t2"
      ],
      "execution_count": 154,
      "outputs": [
        {
          "output_type": "execute_result",
          "data": {
            "text/plain": [
              "tensor([[5., 6.],\n",
              "        [7., 8.]])"
            ]
          },
          "metadata": {},
          "execution_count": 154
        }
      ]
    },
    {
      "cell_type": "code",
      "metadata": {
        "colab": {
          "base_uri": "https://localhost:8080/"
        },
        "id": "w0aApDXFyaDw",
        "outputId": "5b01c6c6-5c47-406e-a1ea-a328b25b836b"
      },
      "source": [
        "t2.shape"
      ],
      "execution_count": 155,
      "outputs": [
        {
          "output_type": "execute_result",
          "data": {
            "text/plain": [
              "torch.Size([2, 2])"
            ]
          },
          "metadata": {},
          "execution_count": 155
        }
      ]
    },
    {
      "cell_type": "markdown",
      "metadata": {
        "id": "QeIgmD7qygSJ"
      },
      "source": [
        "#**Tensor operations and gradients**"
      ]
    },
    {
      "cell_type": "code",
      "metadata": {
        "colab": {
          "base_uri": "https://localhost:8080/"
        },
        "id": "qNOJYhGjymrX",
        "outputId": "a903948f-4921-4950-f658-315916886e6e"
      },
      "source": [
        "x = torch.tensor(3.)\n",
        "w = torch.tensor(4., requires_grad=True)\n",
        "b = torch.tensor(5., requires_grad=True)\n",
        "y = w*x + b\n",
        "y"
      ],
      "execution_count": 156,
      "outputs": [
        {
          "output_type": "execute_result",
          "data": {
            "text/plain": [
              "tensor(17., grad_fn=<AddBackward0>)"
            ]
          },
          "metadata": {},
          "execution_count": 156
        }
      ]
    },
    {
      "cell_type": "code",
      "metadata": {
        "id": "_0RU10QDzk4n"
      },
      "source": [
        "# Đạo hàm - Derivatives\n",
        "y.backward()"
      ],
      "execution_count": 157,
      "outputs": []
    },
    {
      "cell_type": "code",
      "metadata": {
        "colab": {
          "base_uri": "https://localhost:8080/"
        },
        "id": "ImlzU1pxz_r-",
        "outputId": "e606712f-383f-46e7-9b2b-51ab280282b4"
      },
      "source": [
        "# Display Gradient\n",
        "print('dy/dx', x.grad)\n",
        "print('dy/dw', w.grad)"
      ],
      "execution_count": 158,
      "outputs": [
        {
          "output_type": "stream",
          "name": "stdout",
          "text": [
            "dy/dx None\n",
            "dy/dw tensor(3.)\n"
          ]
        }
      ]
    },
    {
      "cell_type": "markdown",
      "metadata": {
        "id": "EGRs6QWi0tls"
      },
      "source": [
        "#Torch with numpy"
      ]
    },
    {
      "cell_type": "code",
      "metadata": {
        "colab": {
          "base_uri": "https://localhost:8080/"
        },
        "id": "DdWQhdqB0lri",
        "outputId": "36b06065-1db6-4725-f02b-5e060d7b2cb5"
      },
      "source": [
        "# convert a Numpy array to a Torch tensor\n",
        "import numpy as np\n",
        "\n",
        "x = np.array([[1,2], [3, 4.]])\n",
        "print(x)\n",
        "print(\"==============\")\n",
        "y = torch.from_numpy(x)\n",
        "y"
      ],
      "execution_count": 159,
      "outputs": [
        {
          "output_type": "stream",
          "name": "stdout",
          "text": [
            "[[1. 2.]\n",
            " [3. 4.]]\n",
            "==============\n"
          ]
        },
        {
          "output_type": "execute_result",
          "data": {
            "text/plain": [
              "tensor([[1., 2.],\n",
              "        [3., 4.]], dtype=torch.float64)"
            ]
          },
          "metadata": {},
          "execution_count": 159
        }
      ]
    },
    {
      "cell_type": "markdown",
      "metadata": {
        "id": "e53oo1lS4YPe"
      },
      "source": [
        "# LR from scratch w Torch"
      ]
    },
    {
      "cell_type": "code",
      "metadata": {
        "id": "Tj3lnRdL6ZYP"
      },
      "source": [
        "inputs = np.array([[73, 67, 43],\n",
        "                   [91, 88, 64],\n",
        "                   [87, 134, 58],\n",
        "                   [102, 43, 37],\n",
        "                   [69, 96, 70]], dtype = 'float32')\n",
        "target = np.array([[56, 70],\n",
        "                   [81, 101],\n",
        "                   [119, 133],\n",
        "                   [22, 37],\n",
        "                   [103, 119]], dtype = 'float32')"
      ],
      "execution_count": 171,
      "outputs": []
    },
    {
      "cell_type": "code",
      "metadata": {
        "id": "NTLFV3pl7IDH"
      },
      "source": [
        "#convert from numpy to Torch Tensor\n",
        "inputs = torch.from_numpy(inputs)\n",
        "targets = torch.from_numpy(target)"
      ],
      "execution_count": 172,
      "outputs": []
    },
    {
      "cell_type": "code",
      "metadata": {
        "id": "8XijURq54V8q"
      },
      "source": [
        "w = torch.randn(2, 3, requires_grad=True)\n",
        "b = torch.randn(2, requires_grad=True)"
      ],
      "execution_count": 173,
      "outputs": []
    },
    {
      "cell_type": "code",
      "metadata": {
        "id": "VHZNBRGm5UEr"
      },
      "source": [
        "def model(x):\n",
        "  return x @ w.t() + b"
      ],
      "execution_count": 174,
      "outputs": []
    },
    {
      "cell_type": "markdown",
      "metadata": {
        "id": "xxYsAVC554WR"
      },
      "source": [
        "@ represent matrix multiplication in PyTorch\n",
        "\n",
        "**.t()** methos returns the transpose of a Tensor\n"
      ]
    },
    {
      "cell_type": "code",
      "metadata": {
        "colab": {
          "base_uri": "https://localhost:8080/"
        },
        "id": "Vhdxd3PE6Esh",
        "outputId": "ee434510-2586-4ab7-a9fd-0d3c6f9c8a46"
      },
      "source": [
        "# Generate predict\n",
        "predict = model(inputs)\n",
        "predict"
      ],
      "execution_count": 182,
      "outputs": [
        {
          "output_type": "execute_result",
          "data": {
            "text/plain": [
              "tensor([[ -24.3831, -117.9704],\n",
              "        [ -23.8321, -143.1403],\n",
              "        [   0.3653, -128.4791],\n",
              "        [ -68.5857, -181.9796],\n",
              "        [   5.2960,  -96.0345]], grad_fn=<AddBackward0>)"
            ]
          },
          "metadata": {},
          "execution_count": 182
        }
      ]
    },
    {
      "cell_type": "code",
      "metadata": {
        "colab": {
          "base_uri": "https://localhost:8080/"
        },
        "id": "RKPOQkGO8UJO",
        "outputId": "0e911a22-3b02-49c5-d191-a9619055a525"
      },
      "source": [
        "targets"
      ],
      "execution_count": 183,
      "outputs": [
        {
          "output_type": "execute_result",
          "data": {
            "text/plain": [
              "tensor([[ 56.,  70.],\n",
              "        [ 81., 101.],\n",
              "        [119., 133.],\n",
              "        [ 22.,  37.],\n",
              "        [103., 119.]])"
            ]
          },
          "metadata": {},
          "execution_count": 183
        }
      ]
    },
    {
      "cell_type": "code",
      "metadata": {
        "colab": {
          "base_uri": "https://localhost:8080/"
        },
        "id": "BbUTlABA8ypv",
        "outputId": "eb274df6-c282-4a2a-c9a0-8ff28076608f"
      },
      "source": [
        "#Compute Loss\n",
        "def mse(t1, t2):\n",
        "  diff = t1-t2\n",
        "  return torch.sum(diff*diff)/diff.numel()\n",
        "\n",
        "loss = mse(predict, targets)\n",
        "print(loss)"
      ],
      "execution_count": 184,
      "outputs": [
        {
          "output_type": "stream",
          "name": "stdout",
          "text": [
            "tensor(30677.7852, grad_fn=<DivBackward0>)\n"
          ]
        }
      ]
    },
    {
      "cell_type": "code",
      "metadata": {
        "colab": {
          "base_uri": "https://localhost:8080/"
        },
        "id": "vp007vh-DK0p",
        "outputId": "5ff286b1-8970-4954-cae7-49d4748a479b"
      },
      "source": [
        "print(w)\n",
        "print(b)\n",
        "print(w.grad.zero_())"
      ],
      "execution_count": 187,
      "outputs": [
        {
          "output_type": "stream",
          "name": "stdout",
          "text": [
            "tensor([[-0.8643,  0.6662,  0.5280],\n",
            "        [-1.6032,  0.5840,  0.5651]], requires_grad=True)\n",
            "tensor([-0.0227,  0.8839], requires_grad=True)\n",
            "tensor([[0., 0., 0.],\n",
            "        [0., 0., 0.]])\n"
          ]
        }
      ]
    },
    {
      "cell_type": "markdown",
      "metadata": {
        "id": "yHJAoqlP_WmH"
      },
      "source": [
        "**Train multiple epochs**"
      ]
    },
    {
      "cell_type": "code",
      "metadata": {
        "colab": {
          "base_uri": "https://localhost:8080/",
          "height": 438
        },
        "id": "mUf-2NM7_Vac",
        "outputId": "61083dad-25d7-4107-a4fc-7cb770b70cac"
      },
      "source": [
        "# Train for 100 epochs\n",
        "for i in range(100):\n",
        "    preds = model(inputs)\n",
        "    loss = mse(predict, targets)\n",
        "    \n",
        "    #Compute Gradient\n",
        "    loss.backward()\n",
        "\n",
        "    # Adjust weights & reset gradients to 0\n",
        "    with torch.no_grad():\n",
        "        w -= w.grad * 1e-5\n",
        "        b -= b.grad * 1e-5\n",
        "        w.zero_grad()\n",
        "        b.zero_grad()"
      ],
      "execution_count": 188,
      "outputs": [
        {
          "output_type": "error",
          "ename": "RuntimeError",
          "evalue": "ignored",
          "traceback": [
            "\u001b[0;31m---------------------------------------------------------------------------\u001b[0m",
            "\u001b[0;31mRuntimeError\u001b[0m                              Traceback (most recent call last)",
            "\u001b[0;32m<ipython-input-188-648e81ab457a>\u001b[0m in \u001b[0;36m<module>\u001b[0;34m()\u001b[0m\n\u001b[1;32m      5\u001b[0m \u001b[0;34m\u001b[0m\u001b[0m\n\u001b[1;32m      6\u001b[0m     \u001b[0;31m#Compute Gradient\u001b[0m\u001b[0;34m\u001b[0m\u001b[0;34m\u001b[0m\u001b[0;34m\u001b[0m\u001b[0m\n\u001b[0;32m----> 7\u001b[0;31m     \u001b[0mloss\u001b[0m\u001b[0;34m.\u001b[0m\u001b[0mbackward\u001b[0m\u001b[0;34m(\u001b[0m\u001b[0;34m)\u001b[0m\u001b[0;34m\u001b[0m\u001b[0;34m\u001b[0m\u001b[0m\n\u001b[0m\u001b[1;32m      8\u001b[0m \u001b[0;34m\u001b[0m\u001b[0m\n\u001b[1;32m      9\u001b[0m     \u001b[0;31m# Adjust weights & reset gradients to 0\u001b[0m\u001b[0;34m\u001b[0m\u001b[0;34m\u001b[0m\u001b[0;34m\u001b[0m\u001b[0m\n",
            "\u001b[0;32m/usr/local/lib/python3.7/dist-packages/torch/_tensor.py\u001b[0m in \u001b[0;36mbackward\u001b[0;34m(self, gradient, retain_graph, create_graph, inputs)\u001b[0m\n\u001b[1;32m    253\u001b[0m                 \u001b[0mcreate_graph\u001b[0m\u001b[0;34m=\u001b[0m\u001b[0mcreate_graph\u001b[0m\u001b[0;34m,\u001b[0m\u001b[0;34m\u001b[0m\u001b[0;34m\u001b[0m\u001b[0m\n\u001b[1;32m    254\u001b[0m                 inputs=inputs)\n\u001b[0;32m--> 255\u001b[0;31m         \u001b[0mtorch\u001b[0m\u001b[0;34m.\u001b[0m\u001b[0mautograd\u001b[0m\u001b[0;34m.\u001b[0m\u001b[0mbackward\u001b[0m\u001b[0;34m(\u001b[0m\u001b[0mself\u001b[0m\u001b[0;34m,\u001b[0m \u001b[0mgradient\u001b[0m\u001b[0;34m,\u001b[0m \u001b[0mretain_graph\u001b[0m\u001b[0;34m,\u001b[0m \u001b[0mcreate_graph\u001b[0m\u001b[0;34m,\u001b[0m \u001b[0minputs\u001b[0m\u001b[0;34m=\u001b[0m\u001b[0minputs\u001b[0m\u001b[0;34m)\u001b[0m\u001b[0;34m\u001b[0m\u001b[0;34m\u001b[0m\u001b[0m\n\u001b[0m\u001b[1;32m    256\u001b[0m \u001b[0;34m\u001b[0m\u001b[0m\n\u001b[1;32m    257\u001b[0m     \u001b[0;32mdef\u001b[0m \u001b[0mregister_hook\u001b[0m\u001b[0;34m(\u001b[0m\u001b[0mself\u001b[0m\u001b[0;34m,\u001b[0m \u001b[0mhook\u001b[0m\u001b[0;34m)\u001b[0m\u001b[0;34m:\u001b[0m\u001b[0;34m\u001b[0m\u001b[0;34m\u001b[0m\u001b[0m\n",
            "\u001b[0;32m/usr/local/lib/python3.7/dist-packages/torch/autograd/__init__.py\u001b[0m in \u001b[0;36mbackward\u001b[0;34m(tensors, grad_tensors, retain_graph, create_graph, grad_variables, inputs)\u001b[0m\n\u001b[1;32m    147\u001b[0m     Variable._execution_engine.run_backward(\n\u001b[1;32m    148\u001b[0m         \u001b[0mtensors\u001b[0m\u001b[0;34m,\u001b[0m \u001b[0mgrad_tensors_\u001b[0m\u001b[0;34m,\u001b[0m \u001b[0mretain_graph\u001b[0m\u001b[0;34m,\u001b[0m \u001b[0mcreate_graph\u001b[0m\u001b[0;34m,\u001b[0m \u001b[0minputs\u001b[0m\u001b[0;34m,\u001b[0m\u001b[0;34m\u001b[0m\u001b[0;34m\u001b[0m\u001b[0m\n\u001b[0;32m--> 149\u001b[0;31m         allow_unreachable=True, accumulate_grad=True)  # allow_unreachable flag\n\u001b[0m\u001b[1;32m    150\u001b[0m \u001b[0;34m\u001b[0m\u001b[0m\n\u001b[1;32m    151\u001b[0m \u001b[0;34m\u001b[0m\u001b[0m\n",
            "\u001b[0;31mRuntimeError\u001b[0m: Trying to backward through the graph a second time (or directly access saved variables after they have already been freed). Saved intermediate values of the graph are freed when you call .backward() or autograd.grad(). Specify retain_graph=True if you need to backward through the graph a second time or if you need to access saved variables after calling backward."
          ]
        }
      ]
    },
    {
      "cell_type": "markdown",
      "metadata": {
        "id": "7-c0xy6fGvaN"
      },
      "source": [
        "# **Linear regression using PyTorch built-ins**"
      ]
    },
    {
      "cell_type": "code",
      "metadata": {
        "id": "XUdVkhG4GmwF"
      },
      "source": [
        "import torch.nn as nn"
      ],
      "execution_count": 189,
      "outputs": []
    },
    {
      "cell_type": "code",
      "metadata": {
        "id": "gjYKhPfgG1PB"
      },
      "source": [
        "# Input (temp, rainfall, humidity)\n",
        "inputs = np.array([[73, 67, 43], \n",
        "                   [91, 88, 64], \n",
        "                   [87, 134, 58], \n",
        "                   [102, 43, 37], \n",
        "                   [69, 96, 70], \n",
        "                   [74, 66, 43], \n",
        "                   [91, 87, 65], \n",
        "                   [88, 134, 59], \n",
        "                   [101, 44, 37], \n",
        "                   [68, 96, 71], \n",
        "                   [73, 66, 44], \n",
        "                   [92, 87, 64], \n",
        "                   [87, 135, 57], \n",
        "                   [103, 43, 36], \n",
        "                   [68, 97, 70]], \n",
        "                  dtype='float32')\n",
        "\n",
        "# Targets (apples, oranges)\n",
        "targets = np.array([[56, 70], \n",
        "                    [81, 101], \n",
        "                    [119, 133], \n",
        "                    [22, 37], \n",
        "                    [103, 119],\n",
        "                    [57, 69], \n",
        "                    [80, 102], \n",
        "                    [118, 132], \n",
        "                    [21, 38], \n",
        "                    [104, 118], \n",
        "                    [57, 69], \n",
        "                    [82, 100], \n",
        "                    [118, 134], \n",
        "                    [20, 38], \n",
        "                    [102, 120]], \n",
        "                   dtype='float32')\n",
        "#convert from numpy array to Torch Tensor\n",
        "inputs = torch.from_numpy(inputs)\n",
        "targets = torch.from_numpy(targets)"
      ],
      "execution_count": 190,
      "outputs": []
    },
    {
      "cell_type": "markdown",
      "metadata": {
        "id": "W2VZuHa_HgxG"
      },
      "source": [
        "# Data Loader"
      ]
    },
    {
      "cell_type": "code",
      "metadata": {
        "id": "URMpjBJOHcb1"
      },
      "source": [
        "from torch.utils.data import TensorDataset, DataLoader"
      ],
      "execution_count": 220,
      "outputs": []
    },
    {
      "cell_type": "code",
      "metadata": {
        "colab": {
          "base_uri": "https://localhost:8080/"
        },
        "id": "L-4S2MAnHrmO",
        "outputId": "6fb4f884-1642-4e53-dc2a-7f79d9532dfe"
      },
      "source": [
        "# The TensorDataset cho phép truy cập vào phận nhỏ data khi chúng ta sử dụng \n",
        "# array indexing ([0:3] in the bottombottom code)\n",
        "train_ = TensorDataset(inputs, targets)\n",
        "train_[0:3]"
      ],
      "execution_count": 221,
      "outputs": [
        {
          "output_type": "execute_result",
          "data": {
            "text/plain": [
              "(tensor([[ 73.,  67.,  43.],\n",
              "         [ 91.,  88.,  64.],\n",
              "         [ 87., 134.,  58.]]), tensor([[ 56.,  70.],\n",
              "         [ 81., 101.],\n",
              "         [119., 133.]]))"
            ]
          },
          "metadata": {},
          "execution_count": 221
        }
      ]
    },
    {
      "cell_type": "code",
      "metadata": {
        "id": "cDJnmEEoIVf8"
      },
      "source": [
        "# Sử dụng DataLoader để chia data thành các phần nhỏ (using Batch Size)\n",
        "train_batch = DataLoader(train_, batch_size=5, shuffle=True)"
      ],
      "execution_count": 223,
      "outputs": []
    },
    {
      "cell_type": "code",
      "metadata": {
        "colab": {
          "base_uri": "https://localhost:8080/"
        },
        "id": "2MAtpIKCIrp5",
        "outputId": "9d8d6538-4829-4654-bc84-fff67f70841e"
      },
      "source": [
        "# Implement data splited =))\n",
        "for x, y in train_batch:\n",
        "  print(x)\n",
        "  print(y)"
      ],
      "execution_count": 224,
      "outputs": [
        {
          "output_type": "stream",
          "name": "stdout",
          "text": [
            "tensor([[91., 87., 65.],\n",
            "        [68., 97., 70.],\n",
            "        [73., 66., 44.],\n",
            "        [68., 96., 71.],\n",
            "        [73., 67., 43.]])\n",
            "tensor([[ 80., 102.],\n",
            "        [102., 120.],\n",
            "        [ 57.,  69.],\n",
            "        [104., 118.],\n",
            "        [ 56.,  70.]])\n",
            "tensor([[ 92.,  87.,  64.],\n",
            "        [ 88., 134.,  59.],\n",
            "        [ 69.,  96.,  70.],\n",
            "        [101.,  44.,  37.],\n",
            "        [ 87., 134.,  58.]])\n",
            "tensor([[ 82., 100.],\n",
            "        [118., 132.],\n",
            "        [103., 119.],\n",
            "        [ 21.,  38.],\n",
            "        [119., 133.]])\n",
            "tensor([[102.,  43.,  37.],\n",
            "        [ 91.,  88.,  64.],\n",
            "        [ 87., 135.,  57.],\n",
            "        [103.,  43.,  36.],\n",
            "        [ 74.,  66.,  43.]])\n",
            "tensor([[ 22.,  37.],\n",
            "        [ 81., 101.],\n",
            "        [118., 134.],\n",
            "        [ 20.,  38.],\n",
            "        [ 57.,  69.]])\n"
          ]
        }
      ]
    },
    {
      "cell_type": "markdown",
      "metadata": {
        "id": "tLea5YICJJMS"
      },
      "source": [
        "# nn.Linear"
      ]
    },
    {
      "cell_type": "code",
      "metadata": {
        "colab": {
          "base_uri": "https://localhost:8080/"
        },
        "id": "MsOKK2pAJCuL",
        "outputId": "b720b295-afa3-4c02-ed33-b746b59a991f"
      },
      "source": [
        "# khởi tạo model, model sẽ tự sinh ra một ma trận trọng số và một ma trận bias\n",
        "# Sau đó sẽ đi tối ưu với thuật toán tối ưu\n",
        "model = nn.Linear(3, 2)\n",
        "print(model.weight)\n",
        "print(model.bias)"
      ],
      "execution_count": 247,
      "outputs": [
        {
          "output_type": "stream",
          "name": "stdout",
          "text": [
            "Parameter containing:\n",
            "tensor([[-0.3087,  0.4504, -0.2256],\n",
            "        [ 0.1607,  0.3971, -0.1317]], requires_grad=True)\n",
            "Parameter containing:\n",
            "tensor([ 0.3009, -0.4918], requires_grad=True)\n"
          ]
        }
      ]
    },
    {
      "cell_type": "code",
      "metadata": {
        "colab": {
          "base_uri": "https://localhost:8080/"
        },
        "id": "JP8hPxGMJIgh",
        "outputId": "81657850-4275-416e-daa8-9480ab662f37"
      },
      "source": [
        "# **parameters** trong Torch là hữu ích\n",
        "# nó trả về ma trận Weight và ma trận Bias\n",
        "list(model.parameters())"
      ],
      "execution_count": 248,
      "outputs": [
        {
          "output_type": "execute_result",
          "data": {
            "text/plain": [
              "[Parameter containing:\n",
              " tensor([[-0.3087,  0.4504, -0.2256],\n",
              "         [ 0.1607,  0.3971, -0.1317]], requires_grad=True),\n",
              " Parameter containing:\n",
              " tensor([ 0.3009, -0.4918], requires_grad=True)]"
            ]
          },
          "metadata": {},
          "execution_count": 248
        }
      ]
    },
    {
      "cell_type": "code",
      "metadata": {
        "colab": {
          "base_uri": "https://localhost:8080/"
        },
        "id": "G58v2nEhKWIa",
        "outputId": "8ee4e521-438f-46e4-dca3-4ee490465f81"
      },
      "source": [
        "# Predictions\n",
        "predict = model(inputs)\n",
        "predict"
      ],
      "execution_count": 249,
      "outputs": [
        {
          "output_type": "execute_result",
          "data": {
            "text/plain": [
              "tensor([[ -1.7594,  32.1762],\n",
              "        [ -2.5958,  40.6403],\n",
              "        [ 20.7102,  59.0531],\n",
              "        [-20.1666,  28.0963],\n",
              "        [  6.4446,  39.4918],\n",
              "        [ -2.5184,  31.9398],\n",
              "        [ -3.2718,  40.1115],\n",
              "        [ 20.1759,  59.0821],\n",
              "        [-19.4076,  28.3327],\n",
              "        [  6.5276,  39.1994],\n",
              "        [ -2.4354,  31.6474],\n",
              "        [ -3.3549,  40.4039],\n",
              "        [ 21.3862,  59.5819],\n",
              "        [-20.2497,  28.3887],\n",
              "        [  7.2036,  39.7282]], grad_fn=<AddmmBackward>)"
            ]
          },
          "metadata": {},
          "execution_count": 249
        }
      ]
    },
    {
      "cell_type": "markdown",
      "metadata": {
        "id": "FIFxisDcLi7I"
      },
      "source": [
        "# Loss Function"
      ]
    },
    {
      "cell_type": "code",
      "metadata": {
        "id": "cDCRzUWDLm1_"
      },
      "source": [
        "# Sử dụng MSE Loss\n",
        "loss_func = torch.nn.functional.mse_loss"
      ],
      "execution_count": 250,
      "outputs": []
    },
    {
      "cell_type": "markdown",
      "metadata": {
        "id": "pGFVa53KL-f_"
      },
      "source": [
        "# Optimization"
      ]
    },
    {
      "cell_type": "code",
      "metadata": {
        "id": "LP_ALSg3L5z5"
      },
      "source": [
        "opt = torch.optim.SGD(model.parameters(), lr=1e-5)"
      ],
      "execution_count": 251,
      "outputs": []
    },
    {
      "cell_type": "markdown",
      "metadata": {
        "id": "WR3KIwl9Mwgl"
      },
      "source": [
        "# Train the model"
      ]
    },
    {
      "cell_type": "code",
      "metadata": {
        "id": "paCCZzTwMv6P"
      },
      "source": [
        "def fit(num_epochs, model, loss_function, optimize, train_batch):\n",
        "  for epoch in range(num_epochs):\n",
        "    for x_train, y_train in train_batch:\n",
        "      \n",
        "      # Generate predictions\n",
        "      predictions = model(x_train)\n",
        "\n",
        "      # Calculate Loss\n",
        "      loss = loss_function(predictions, y_train)\n",
        "\n",
        "      # Compute Gradient\n",
        "      loss.backward()\n",
        "\n",
        "      # Update parameters using gradient ( throught optimiser)\n",
        "      optimize.step()\n",
        "\n",
        "      # Reset the gradient to 0\n",
        "      optimize.zero_grad()\n",
        "    \n",
        "    # Print the progress\n",
        "    if (epoch+1) % 10 == 0:\n",
        "      print('Epoch [{}/{}], Loss: {:.4f}'.format(epoch+1, num_epochs, loss.item()))"
      ],
      "execution_count": 252,
      "outputs": []
    },
    {
      "cell_type": "code",
      "metadata": {
        "colab": {
          "base_uri": "https://localhost:8080/"
        },
        "id": "bMufTJXcOYxh",
        "outputId": "f00cd90c-404f-42db-80ce-7ab41a9fd41f"
      },
      "source": [
        "fit(1000, model, loss_func, opt, train_batch)"
      ],
      "execution_count": 254,
      "outputs": [
        {
          "output_type": "stream",
          "name": "stdout",
          "text": [
            "Epoch [10/1000], Loss: 11.9115\n",
            "Epoch [20/1000], Loss: 28.2825\n",
            "Epoch [30/1000], Loss: 18.6537\n",
            "Epoch [40/1000], Loss: 9.6360\n",
            "Epoch [50/1000], Loss: 22.4713\n",
            "Epoch [60/1000], Loss: 18.2590\n",
            "Epoch [70/1000], Loss: 3.9484\n",
            "Epoch [80/1000], Loss: 2.2124\n",
            "Epoch [90/1000], Loss: 16.7893\n",
            "Epoch [100/1000], Loss: 10.3320\n",
            "Epoch [110/1000], Loss: 9.8391\n",
            "Epoch [120/1000], Loss: 9.8578\n",
            "Epoch [130/1000], Loss: 9.7273\n",
            "Epoch [140/1000], Loss: 13.0325\n",
            "Epoch [150/1000], Loss: 5.4175\n",
            "Epoch [160/1000], Loss: 12.3746\n",
            "Epoch [170/1000], Loss: 10.2088\n",
            "Epoch [180/1000], Loss: 4.8064\n",
            "Epoch [190/1000], Loss: 7.4762\n",
            "Epoch [200/1000], Loss: 6.0291\n",
            "Epoch [210/1000], Loss: 5.9383\n",
            "Epoch [220/1000], Loss: 8.1939\n",
            "Epoch [230/1000], Loss: 7.4324\n",
            "Epoch [240/1000], Loss: 8.9335\n",
            "Epoch [250/1000], Loss: 7.7860\n",
            "Epoch [260/1000], Loss: 6.6561\n",
            "Epoch [270/1000], Loss: 6.5931\n",
            "Epoch [280/1000], Loss: 5.5917\n",
            "Epoch [290/1000], Loss: 5.9711\n",
            "Epoch [300/1000], Loss: 3.6283\n",
            "Epoch [310/1000], Loss: 2.3924\n",
            "Epoch [320/1000], Loss: 3.9094\n",
            "Epoch [330/1000], Loss: 6.2163\n",
            "Epoch [340/1000], Loss: 2.5257\n",
            "Epoch [350/1000], Loss: 3.7161\n",
            "Epoch [360/1000], Loss: 3.2353\n",
            "Epoch [370/1000], Loss: 2.3495\n",
            "Epoch [380/1000], Loss: 4.1771\n",
            "Epoch [390/1000], Loss: 1.2153\n",
            "Epoch [400/1000], Loss: 1.8115\n",
            "Epoch [410/1000], Loss: 3.5175\n",
            "Epoch [420/1000], Loss: 1.4364\n",
            "Epoch [430/1000], Loss: 2.7660\n",
            "Epoch [440/1000], Loss: 1.5831\n",
            "Epoch [450/1000], Loss: 2.3347\n",
            "Epoch [460/1000], Loss: 2.5158\n",
            "Epoch [470/1000], Loss: 3.0662\n",
            "Epoch [480/1000], Loss: 2.2314\n",
            "Epoch [490/1000], Loss: 1.2137\n",
            "Epoch [500/1000], Loss: 1.4766\n",
            "Epoch [510/1000], Loss: 2.2502\n",
            "Epoch [520/1000], Loss: 1.0584\n",
            "Epoch [530/1000], Loss: 1.9164\n",
            "Epoch [540/1000], Loss: 0.7916\n",
            "Epoch [550/1000], Loss: 1.7640\n",
            "Epoch [560/1000], Loss: 1.6135\n",
            "Epoch [570/1000], Loss: 1.8366\n",
            "Epoch [580/1000], Loss: 1.2218\n",
            "Epoch [590/1000], Loss: 1.4637\n",
            "Epoch [600/1000], Loss: 1.5548\n",
            "Epoch [610/1000], Loss: 1.0606\n",
            "Epoch [620/1000], Loss: 1.8204\n",
            "Epoch [630/1000], Loss: 1.9570\n",
            "Epoch [640/1000], Loss: 1.4542\n",
            "Epoch [650/1000], Loss: 1.2005\n",
            "Epoch [660/1000], Loss: 1.2111\n",
            "Epoch [670/1000], Loss: 1.7451\n",
            "Epoch [680/1000], Loss: 1.4248\n",
            "Epoch [690/1000], Loss: 1.4850\n",
            "Epoch [700/1000], Loss: 1.3345\n",
            "Epoch [710/1000], Loss: 1.8591\n",
            "Epoch [720/1000], Loss: 1.3880\n",
            "Epoch [730/1000], Loss: 1.5875\n",
            "Epoch [740/1000], Loss: 1.4642\n",
            "Epoch [750/1000], Loss: 1.5651\n",
            "Epoch [760/1000], Loss: 1.7254\n",
            "Epoch [770/1000], Loss: 1.0312\n",
            "Epoch [780/1000], Loss: 1.0970\n",
            "Epoch [790/1000], Loss: 1.0492\n",
            "Epoch [800/1000], Loss: 1.4252\n",
            "Epoch [810/1000], Loss: 1.3349\n",
            "Epoch [820/1000], Loss: 1.3206\n",
            "Epoch [830/1000], Loss: 1.1310\n",
            "Epoch [840/1000], Loss: 1.3783\n",
            "Epoch [850/1000], Loss: 1.2262\n",
            "Epoch [860/1000], Loss: 1.5280\n",
            "Epoch [870/1000], Loss: 1.2501\n",
            "Epoch [880/1000], Loss: 0.9786\n",
            "Epoch [890/1000], Loss: 1.0911\n",
            "Epoch [900/1000], Loss: 1.4284\n",
            "Epoch [910/1000], Loss: 1.2752\n",
            "Epoch [920/1000], Loss: 1.0518\n",
            "Epoch [930/1000], Loss: 1.5824\n",
            "Epoch [940/1000], Loss: 1.1605\n",
            "Epoch [950/1000], Loss: 0.8826\n",
            "Epoch [960/1000], Loss: 1.7529\n",
            "Epoch [970/1000], Loss: 0.7823\n",
            "Epoch [980/1000], Loss: 1.2767\n",
            "Epoch [990/1000], Loss: 1.0245\n",
            "Epoch [1000/1000], Loss: 0.7118\n"
          ]
        }
      ]
    }
  ]
}